{
 "cells": [
  {
   "cell_type": "markdown",
   "metadata": {},
   "source": [
    "# Exam R\n",
    "Mark Klik & Misja Mikkers\n",
    "\n",
    "# Introduction\n",
    "\n",
    "Before you turn this problem in, make sure everything runs as expected. First, **restart the kernel** (in the menubar, select Kernel$\\rightarrow$Restart) and then **run all cells** (in the menubar, select Cell$\\rightarrow$Run All).\n",
    "\n",
    "Make sure you fill in any place that says `YOUR CODE HERE` or \"YOUR ANSWER HERE\", as well as your name and collaborators below:\n",
    "\n"
   ]
  },
  {
   "cell_type": "code",
   "execution_count": 3,
   "metadata": {},
   "outputs": [],
   "source": [
    "NAME = \"Marisa de Gelder, 2014703\"\n",
    "COLLABORATORS = \"\""
   ]
  },
  {
   "cell_type": "markdown",
   "metadata": {},
   "source": [
    "Fill in the cell above to provide us with your name and student number, like\n",
    "\n",
    "NAME = \"Adam Smith, #student number#\"\n",
    "\n",
    "where you replace \"#student number#\" with your ... (very good!)\n",
    "\n",
    "Unfortunately, you are not allowed to work with \"COLLABORATORS\" in this exam.\n",
    "\n",
    "## exam October 16th, 2018\n",
    "\n",
    "With this R part of the exam you can earn at max. 4 points.\n",
    "\n",
    "In the first cell of the notebook, give us your name and student number in the way indicated above.\n",
    "\n",
    "Fill in the notebook (see below for code cells and text cells that you need to fill in).\n",
    "\n",
    "If you look at the menus above (File, Edit, View etc.), there is one called \"Cell\". If you click on this, you can change the \"Cell Type\". Choose \"Code\" when you are typing python or R code. Choose \"Markdown\" when you are typing, well, markdown.\n",
    "\n",
    "When you finish the notebook, make sure that you save it with the output of your code included.\n",
    "\n",
    "Then put it on github, e.g. by dragging it onto github (see instructions below).\n",
    "\n",
    "Finally, add a link to your README file with the name of this exam: \"Exam R September 7, 2018\".\n",
    "\n",
    "# Packages\n",
    "\n",
    "You will need the following packages for this exam."
   ]
  },
  {
   "cell_type": "code",
   "execution_count": 5,
   "metadata": {},
   "outputs": [],
   "source": [
    "library(tidyverse)\n"
   ]
  },
  {
   "cell_type": "markdown",
   "metadata": {},
   "source": [
    "# Assignment 1\n",
    "\n",
    "## Data\n",
    "\n",
    "Please read in \"Credit.csv\" and check the structure.\n",
    "\n",
    "If needed change the variables Balance and Income into a numeric variable.\n",
    "\n",
    "Hint: don't forget you cannot change a factor in a numeric variable directly!\n",
    "\n"
   ]
  },
  {
   "cell_type": "code",
   "execution_count": 10,
   "metadata": {},
   "outputs": [],
   "source": [
    "data1 <- read.csv2(\"Credit.csv\")"
   ]
  },
  {
   "cell_type": "code",
   "execution_count": 11,
   "metadata": {},
   "outputs": [
    {
     "name": "stdout",
     "output_type": "stream",
     "text": [
      "'data.frame':\t400 obs. of  13 variables:\n",
      " $ X        : int  1 2 3 4 5 6 7 8 9 10 ...\n",
      " $ ID       : int  1 2 3 4 5 6 7 8 9 10 ...\n",
      " $ Income   : num  14.9 106 104.6 148.9 55.9 ...\n",
      " $ Limit    : int  3606 6645 7075 9504 4897 8047 3388 7114 3300 6819 ...\n",
      " $ Rating   : int  283 483 514 681 357 569 259 512 266 491 ...\n",
      " $ Cards    : int  2 3 4 3 2 4 2 2 5 3 ...\n",
      " $ Age      : int  34 82 71 36 68 77 37 87 66 41 ...\n",
      " $ Education: int  11 15 11 11 16 10 12 9 13 19 ...\n",
      " $ Gender   : Factor w/ 2 levels \" Male\",\"Female\": 1 2 1 2 1 1 2 1 2 2 ...\n",
      " $ Student  : Factor w/ 2 levels \"No\",\"Yes\": 1 2 1 1 1 1 1 1 1 2 ...\n",
      " $ Married  : Factor w/ 2 levels \"No\",\"Yes\": 2 2 1 1 2 1 1 1 1 2 ...\n",
      " $ Ethnicity: Factor w/ 3 levels \"African American\",..: 3 2 2 2 3 3 1 2 3 1 ...\n",
      " $ Balance  : int  333 903 580 964 331 1151 203 872 279 1350 ...\n"
     ]
    }
   ],
   "source": [
    "str(data1)"
   ]
  },
  {
   "cell_type": "markdown",
   "metadata": {},
   "source": [
    "With the command 'str' it is possible to see the structure of the data. The variables Balance and Income are already a numeric variable, so they doesn't need to be changed."
   ]
  },
  {
   "cell_type": "markdown",
   "metadata": {},
   "source": [
    "# Filter data\n",
    "\n",
    "Select the variables ID, Income, Student and Balance.\n",
    "We are in this case only interested in students. Therefore, make sure you're dataset contains only students (so delete all non-students).\n",
    "Show the head of your dataframe"
   ]
  },
  {
   "cell_type": "code",
   "execution_count": 65,
   "metadata": {},
   "outputs": [
    {
     "data": {
      "text/html": [
       "<table>\n",
       "<thead><tr><th scope=col>ID</th><th scope=col>Income</th><th scope=col>Student</th><th scope=col>Balance</th></tr></thead>\n",
       "<tbody>\n",
       "\t<tr><td> 2     </td><td>106.025</td><td>Yes    </td><td> 903   </td></tr>\n",
       "\t<tr><td>10     </td><td> 71.061</td><td>Yes    </td><td>1350   </td></tr>\n",
       "\t<tr><td>27     </td><td> 42.471</td><td>Yes    </td><td> 654   </td></tr>\n",
       "\t<tr><td>36     </td><td> 23.350</td><td>Yes    </td><td> 419   </td></tr>\n",
       "\t<tr><td>42     </td><td>113.659</td><td>Yes    </td><td>1155   </td></tr>\n",
       "\t<tr><td>47     </td><td> 19.531</td><td>Yes    </td><td>1241   </td></tr>\n",
       "</tbody>\n",
       "</table>\n"
      ],
      "text/latex": [
       "\\begin{tabular}{r|llll}\n",
       " ID & Income & Student & Balance\\\\\n",
       "\\hline\n",
       "\t  2      & 106.025 & Yes     &  903   \\\\\n",
       "\t 10      &  71.061 & Yes     & 1350   \\\\\n",
       "\t 27      &  42.471 & Yes     &  654   \\\\\n",
       "\t 36      &  23.350 & Yes     &  419   \\\\\n",
       "\t 42      & 113.659 & Yes     & 1155   \\\\\n",
       "\t 47      &  19.531 & Yes     & 1241   \\\\\n",
       "\\end{tabular}\n"
      ],
      "text/markdown": [
       "\n",
       "ID | Income | Student | Balance | \n",
       "|---|---|---|---|---|---|\n",
       "|  2      | 106.025 | Yes     |  903    | \n",
       "| 10      |  71.061 | Yes     | 1350    | \n",
       "| 27      |  42.471 | Yes     |  654    | \n",
       "| 36      |  23.350 | Yes     |  419    | \n",
       "| 42      | 113.659 | Yes     | 1155    | \n",
       "| 47      |  19.531 | Yes     | 1241    | \n",
       "\n",
       "\n"
      ],
      "text/plain": [
       "  ID Income  Student Balance\n",
       "1  2 106.025 Yes      903   \n",
       "2 10  71.061 Yes     1350   \n",
       "3 27  42.471 Yes      654   \n",
       "4 36  23.350 Yes      419   \n",
       "5 42 113.659 Yes     1155   \n",
       "6 47  19.531 Yes     1241   "
      ]
     },
     "metadata": {},
     "output_type": "display_data"
    }
   ],
   "source": [
    "data2 <- select(data1,ID, Income, Student,Balance)\n",
    "data3 <- filter(data2, Student == \"Yes\")\n",
    "head(data3)"
   ]
  },
  {
   "cell_type": "markdown",
   "metadata": {},
   "source": [
    "From the data I read in I selected only the variables ID, Income, Student and Balance by using the 'select' command. I created a new dataset with only this variables. In this dataset 2, there are still people who aren't a student. By using the command 'filter' I only have the people who are a student left. In dataset 3 I have put the same variables as in dataset 2, but now with the filtered Student variable.  "
   ]
  },
  {
   "cell_type": "markdown",
   "metadata": {},
   "source": [
    "\n",
    "\n",
    "## Regression \n",
    "\n",
    "You will now have to run a regression with Balance as a function of Income. Show the summary statistics."
   ]
  },
  {
   "cell_type": "code",
   "execution_count": 60,
   "metadata": {
    "scrolled": true
   },
   "outputs": [
    {
     "data": {
      "text/plain": [
       "\n",
       "Call:\n",
       "lm(formula = Balance ~ Income, data = data3)\n",
       "\n",
       "Residuals:\n",
       "    Min      1Q  Median      3Q     Max \n",
       "-749.55 -372.56   51.38  454.78  730.63 \n",
       "\n",
       "Coefficients:\n",
       "            Estimate Std. Error t value Pr(>|t|)    \n",
       "(Intercept)  677.299    118.088   5.736 1.31e-06 ***\n",
       "Income         4.219      1.945   2.169   0.0364 *  \n",
       "---\n",
       "Signif. codes:  0 '***' 0.001 '**' 0.01 '*' 0.05 '.' 0.1 ' ' 1\n",
       "\n",
       "Residual standard error: 468.3 on 38 degrees of freedom\n",
       "Multiple R-squared:  0.1102,\tAdjusted R-squared:  0.08674 \n",
       "F-statistic: 4.704 on 1 and 38 DF,  p-value: 0.03642\n"
      ]
     },
     "metadata": {},
     "output_type": "display_data"
    }
   ],
   "source": [
    "regression <- lm(data = data3, Balance ~ Income)\n",
    "summary(regression)"
   ]
  },
  {
   "cell_type": "markdown",
   "metadata": {},
   "source": [
    "I created a regression by using the 'lm' function of R. This way, R will automatically create the right values of the regression function. By looking at the summary statistics, the values of the regression line can be found under coefficients and then income. "
   ]
  },
  {
   "cell_type": "markdown",
   "metadata": {},
   "source": [
    "## Plot\n",
    "\n",
    "Now you have to make a scatter plot of the data:\n",
    "\n",
    "* with Income on the x-axis\n",
    "* Balance on the y-axis\n",
    "* the regression line in green, with confidence interval\n",
    "* in a light theme\n"
   ]
  },
  {
   "cell_type": "code",
   "execution_count": 86,
   "metadata": {},
   "outputs": [
    {
     "data": {},
     "metadata": {},
     "output_type": "display_data"
    },
    {
     "data": {
      "image/png": "[encoded data removed]",
      "text/plain": [
       "plot without title"
      ]
     },
     "metadata": {},
     "output_type": "display_data"
    }
   ],
   "source": [
    "plot1 <- ggplot(data = data3, aes(x = Income, y = Balance)) +\n",
    "  geom_point() + geom_smooth(method = \"lm\", color = \"green\", se = FALSE) + theme_light()\n",
    "plot1"
   ]
  },
  {
   "cell_type": "markdown",
   "metadata": {},
   "source": [
    "I created a scatter plot of the data by using ggploty. I first specified the right data. After this I specified the Income on the x-axis and the Balance on the y-axis. By using geom_point() the data is loaded into the plot. I used geom_smooth to get a line. By specifying method = lm, I created the regression line through the point. I also specified the color and the theme of the plot by using color = green and theme_light(). "
   ]
  },
  {
   "cell_type": "markdown",
   "metadata": {},
   "source": [
    "End of notebook"
   ]
  }
 ],
 "metadata": {
  "anaconda-cloud": {},
  "kernelspec": {
   "display_name": "R",
   "language": "R",
   "name": "ir"
  },
  "language_info": {
   "codemirror_mode": "r",
   "file_extension": ".r",
   "mimetype": "text/x-r-source",
   "name": "R",
   "pygments_lexer": "r",
   "version": "3.4.3"
  }
 },
 "nbformat": 4,
 "nbformat_minor": 1
}
